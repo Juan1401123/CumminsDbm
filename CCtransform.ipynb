{
 "cells": [
  {
   "cell_type": "code",
   "execution_count": 1,
   "metadata": {},
   "outputs": [],
   "source": [
    "import pandas as pd\n",
    "import openpyxl\n",
    "import odf\n",
    "from datetime import datetime, timedelta\n",
    "from collections import deque\n"
   ]
  },
  {
   "cell_type": "code",
   "execution_count": 2,
   "metadata": {},
   "outputs": [],
   "source": [
    "Actualizar='NO'\n",
    "reportebase_ruta='metadataC.xlsx'\n",
    "dbm_reporte_base_ruta='Reporte-Base-2024-10-11.xlsx'\n",
    "mpyaceitetab_ruta='mpyaceibase.xlsx'\n",
    "asarco_ruta='asarco.xlsx'\n",
    "avanhrs_ruta='avanhrs+1.xlsx'\n",
    "fechasxcargar='2023-02-27','2024-10-03'\n",
    "avanhrs_hrs_mes_rango='2024-07-31','2024-10-03'\n",
    "camiones_500_rango=['CA184','CA185','CA186','CA187','CA188','CA189','CA190']"
   ]
  },
  {
   "cell_type": "code",
   "execution_count": 3,
   "metadata": {},
   "outputs": [],
   "source": [
    "dfrbase=pd.read_excel(reportebase_ruta)\n",
    "mpyaceite=pd.read_excel(mpyaceitetab_ruta)\n",
    "asarco=pd.read_excel(asarco_ruta)\n",
    "avanhrs=pd.read_excel(avanhrs_ruta)\n",
    "dbm_reporte_base=pd.read_excel(dbm_reporte_base_ruta)"
   ]
  },
  {
   "cell_type": "code",
   "execution_count": 146,
   "metadata": {},
   "outputs": [],
   "source": [
    "excel_sheets = pd.read_excel('MANT MINS 930E-980E-830E, 03-10-2024.xlsm', sheet_name=None, engine='openpyxl')\n",
    "\n",
    "meses=['ENERO', 'FEBRERO', 'MARZO', 'ABRIL', 'MAYO', 'JUNIO', 'JULIO', 'AGOSTO', 'SEPTIEMBRE', 'OCTUBRE', 'NOVIEMBRE', 'DICIEMBRE']\n"
   ]
  },
  {
   "cell_type": "code",
   "execution_count": 147,
   "metadata": {},
   "outputs": [],
   "source": [
    "indexsheets=[]\n",
    "for a in meses:\n",
    "    for b in excel_sheets: \n",
    "     if a in b:\n",
    "        indexsheets.append(b)\n"
   ]
  },
  {
   "cell_type": "code",
   "execution_count": 148,
   "metadata": {},
   "outputs": [],
   "source": [
    "for b in indexsheets:\n",
    "    excel_sheets[b]=excel_sheets[b].drop(index=0)\n",
    "    excel_sheets[b].columns=excel_sheets[b].iloc[0]\n",
    "    excel_sheets[b]=excel_sheets[b].iloc[:, :-2] \n",
    "    excel_sheets[b]=excel_sheets[b].drop(index=1)\n",
    "    excel_sheets[b]=excel_sheets[b].reset_index(drop=True)\n"
   ]
  },
  {
   "cell_type": "code",
   "execution_count": 149,
   "metadata": {},
   "outputs": [],
   "source": [
    "mergepivot=excel_sheets[indexsheets[0]].columns[0]"
   ]
  },
  {
   "cell_type": "code",
   "execution_count": 150,
   "metadata": {},
   "outputs": [],
   "source": [
    "merged_df = excel_sheets[indexsheets[0]]\n",
    "\n",
    "# Iterar sobre los DataFrames restantes y hacer el merge\n",
    "for df in indexsheets[1:]:\n",
    "    merged_df = pd.merge(merged_df, excel_sheets[df], on=mergepivot, how='outer')\n",
    "merged_df=merged_df[~merged_df['EQUIPOS 930E'].isin(['EQUIPOS 830E','EQUIPOS 980E'])]\n",
    "merged_df=merged_df.reset_index(drop=True)\n",
    "merged_df=merged_df.dropna(axis=1, how='all')\n",
    "merged_df=merged_df.dropna(axis=0, how='all')"
   ]
  },
  {
   "cell_type": "code",
   "execution_count": 151,
   "metadata": {},
   "outputs": [],
   "source": [
    "def generar_lista_fechas1(fecha_inicio_dt, fecha_fin_dt):\n",
    " \n",
    "   \n",
    "   \n",
    "\n",
    "    lista_fechas = []\n",
    "    fecha_actual = fecha_inicio_dt\n",
    "\n",
    "    while fecha_actual <= fecha_fin_dt:\n",
    "     \n",
    "        lista_fechas.append(fecha_actual.strftime(\"%Y-%m-%d 00:00:00\"))\n",
    "      \n",
    "        fecha_actual += timedelta(days=1)\n",
    "\n",
    "    return lista_fechas"
   ]
  },
  {
   "cell_type": "code",
   "execution_count": 152,
   "metadata": {},
   "outputs": [],
   "source": [
    "\n",
    "date_list1=generar_lista_fechas1(asarco[asarco.columns[len(asarco.columns)-1]].name,merged_df[merged_df.columns[len(merged_df.columns)-1]].name)\n",
    "date_list1=date_list1[1:]\n"
   ]
  },
  {
   "cell_type": "code",
   "execution_count": 153,
   "metadata": {},
   "outputs": [],
   "source": [
    "for c in range(len(date_list1)):\n",
    "    date_list1[c]=datetime.strptime(date_list1[c], \"%Y-%m-%d %H:%M:%S\")\n",
    "date_list1.append('EQUIPOS 930E')\n"
   ]
  },
  {
   "cell_type": "code",
   "execution_count": 154,
   "metadata": {},
   "outputs": [],
   "source": [
    "time_to_add=merged_df[date_list1]\n"
   ]
  },
  {
   "cell_type": "code",
   "execution_count": 155,
   "metadata": {},
   "outputs": [],
   "source": [
    "asarco=pd.merge(asarco,time_to_add,left_on='Equipo',right_on='EQUIPOS 930E',how='left').iloc[:, :-1]"
   ]
  },
  {
   "cell_type": "markdown",
   "metadata": {},
   "source": [
    "Actualizacion de Reporte Base"
   ]
  },
  {
   "cell_type": "code",
   "execution_count": 156,
   "metadata": {},
   "outputs": [],
   "source": [
    "datelist2=generar_lista_fechas1(dfrbase['Fecha Inicio'].max(),pd.Timestamp(fechasxcargar[1]))\n",
    "for c in range(len(datelist2)):\n",
    "    datelist2[c]=pd.Timestamp(datelist2[c])\n",
    "\n"
   ]
  },
  {
   "cell_type": "code",
   "execution_count": 157,
   "metadata": {},
   "outputs": [],
   "source": [
    "dbm_report_toadd=dbm_reporte_base[dbm_reporte_base['Fecha Inicio'].isin(datelist2)]"
   ]
  },
  {
   "cell_type": "code",
   "execution_count": 158,
   "metadata": {},
   "outputs": [],
   "source": [
    "dfrbase=pd.concat([dfrbase, dbm_report_toadd], axis=0, ignore_index=True)"
   ]
  },
  {
   "cell_type": "markdown",
   "metadata": {},
   "source": [
    "Carga de Horas Avanzadas"
   ]
  },
  {
   "cell_type": "code",
   "execution_count": 159,
   "metadata": {},
   "outputs": [],
   "source": [
    "\n",
    "def generar_lista_fechas(fecha_inicio, fecha_fin):\n",
    " \n",
    "   \n",
    "    fecha_inicio_dt = datetime.strptime(fecha_inicio, \"%Y-%m-%d\")\n",
    "    fecha_fin_dt = datetime.strptime(fecha_fin, \"%Y-%m-%d\")\n",
    "\n",
    "    lista_fechas = []\n",
    "    fecha_actual = fecha_inicio_dt\n",
    "\n",
    "    while fecha_actual <= fecha_fin_dt:\n",
    "     \n",
    "        lista_fechas.append(fecha_actual.strftime(\"%Y-%m-%d 00:00:00\"))\n",
    "      \n",
    "        fecha_actual += timedelta(days=1)\n",
    "\n",
    "    return lista_fechas"
   ]
  },
  {
   "cell_type": "code",
   "execution_count": 160,
   "metadata": {},
   "outputs": [],
   "source": [
    "ufah=avanhrs[avanhrs.columns[len(avanhrs.columns)-1]].name-timedelta(days=1)\n"
   ]
  },
  {
   "cell_type": "code",
   "execution_count": 162,
   "metadata": {},
   "outputs": [],
   "source": [
    "date_list=generar_lista_fechas(ufah.strftime('%Y-%m-%d'),fechasxcargar[1])\n",
    "for f in date_list[2:]:\n",
    "    avanhrs[datetime.strptime(f, \"%Y-%m-%d %H:%M:%S\")]=None"
   ]
  },
  {
   "cell_type": "code",
   "execution_count": 163,
   "metadata": {},
   "outputs": [],
   "source": [
    "asarcolite=asarco[['Equipo']]\n",
    "avanhrslite=avanhrs[['Unidad']]\n",
    "for index, g in enumerate(avanhrs['Unidad']):\n",
    "    for h in range(2,len(date_list)):\n",
    "     try:\n",
    "       as1val=asarco.at[asarcolite[asarcolite['Equipo']=='CA'+str(g)].index[0],datetime.strptime(date_list[h-1], \"%Y-%m-%d %H:%M:%S\")]\n",
    "       as2val=asarco.at[asarcolite[asarcolite['Equipo']=='CA'+str(g)].index[0],datetime.strptime(date_list[h-2], \"%Y-%m-%d %H:%M:%S\")]\n",
    "       asvalu=as1val-as2val\n",
    "      #  avhrsant=avanhrs[avanhrs['Unidad']==g][datetime.strptime(date_list[h-1], \"%Y-%m-%d %H:%M:%S\")].values[0]\n",
    "       avhrsant=avanhrs.at[avanhrslite[avanhrslite['Unidad']==g].index[0],datetime.strptime(date_list[h-1], \"%Y-%m-%d %H:%M:%S\")]\n",
    "       if isinstance(avhrsant, (int, float)) and isinstance(asvalu, (int, float)):\n",
    "        valor=avhrsant+asvalu\n",
    "        #valor=round(valor)\n",
    "        avanhrs[datetime.strptime(date_list[h], \"%Y-%m-%d %H:%M:%S\")][index]=valor\n",
    "     except Exception as e:\n",
    "            print(f\"Error al procesar la unidad\")\n"
   ]
  },
  {
   "cell_type": "code",
   "execution_count": 164,
   "metadata": {},
   "outputs": [],
   "source": [
    "# for index, g in enumerate(avanhrs['Unidad']):\n",
    "#     for h in range(2,len(date_list)):\n",
    "#      try:\n",
    "#        as1val=asarco[asarco['Equipo']=='CA'+str(g)][datetime.strptime(date_list[h-1], \"%Y-%m-%d %H:%M:%S\")].values[0]\n",
    "#        as2val=asarco[asarco['Equipo']=='CA'+str(g)][datetime.strptime(date_list[h-2], \"%Y-%m-%d %H:%M:%S\")].values[0]\n",
    "#        asvalu=as1val-as2val\n",
    "#        avhrsant=avanhrs[avanhrs['Unidad']==g][datetime.strptime(date_list[h-1], \"%Y-%m-%d %H:%M:%S\")].values[0]\n",
    "#        if isinstance(avhrsant, (int, float)) and isinstance(asvalu, (int, float)):\n",
    "#         valor=avhrsant+asvalu\n",
    "#         #valor=round(valor)\n",
    "#         avanhrs[datetime.strptime(date_list[h], \"%Y-%m-%d %H:%M:%S\")][index]=valor\n",
    "#      except Exception as e:\n",
    "#             print(f\"Error al procesar la unidad\")\n"
   ]
  },
  {
   "cell_type": "markdown",
   "metadata": {},
   "source": [
    "Actualizacion de Documentos"
   ]
  },
  {
   "cell_type": "code",
   "execution_count": 165,
   "metadata": {},
   "outputs": [],
   "source": [
    "if Actualizar=='SI':\n",
    " asarco.to_excel(asarco_ruta,index=False)\n",
    " dfrbase.to_excel(reportebase_ruta,index=False)\n",
    " avanhrs.to_excel(avanhrs_ruta,index=False)"
   ]
  },
  {
   "cell_type": "code",
   "execution_count": null,
   "metadata": {},
   "outputs": [],
   "source": [
    "avanhrs['VALOR MAX']=None\n",
    "for index,i in enumerate(avanhrs['Unidad']):\n",
    "    avanhrs['VALOR MAX'][index]=avanhrs.drop(['Flota', 'Unidad','Estado','ESN', 'PS','Arreglo motor','Tipo contrato'],axis=1).iloc[index].max()"
   ]
  },
  {
   "cell_type": "code",
   "execution_count": 167,
   "metadata": {},
   "outputs": [],
   "source": [
    "avanhrs['Equipo']=avanhrs['Unidad']\n",
    "avanhrs['Horas']=avanhrs['VALOR MAX']"
   ]
  },
  {
   "cell_type": "code",
   "execution_count": 168,
   "metadata": {},
   "outputs": [],
   "source": [
    "avanhrs['HRSMES']=None"
   ]
  },
  {
   "cell_type": "code",
   "execution_count": null,
   "metadata": {},
   "outputs": [],
   "source": [
    "for index,j in enumerate(avanhrs['Unidad']):\n",
    "  try:\n",
    "    valor1=avanhrs[datetime.strptime(avanhrs_hrs_mes_rango[0], \"%Y-%m-%d\")][index]\n",
    "  except Exception as e:\n",
    "     valor1=0\n",
    "  try:\n",
    "    valor2=avanhrs[datetime.strptime(avanhrs_hrs_mes_rango[1], \"%Y-%m-%d\")][index]\n",
    "  except Exception as e:\n",
    "     valor2=0\n",
    "  if isinstance(valor2, (int, float)) and isinstance(valor1, (int, float)):\n",
    "    valorfinal = valor2 - valor1\n",
    "  else:\n",
    "    valorfinal = 0 \n",
    "  avanhrs['HRSMES'][index]=valorfinal"
   ]
  },
  {
   "cell_type": "markdown",
   "metadata": {},
   "source": [
    "Creacion de Reporte base"
   ]
  },
  {
   "cell_type": "code",
   "execution_count": 170,
   "metadata": {},
   "outputs": [],
   "source": [
    "dfrbase['caex']=None\n",
    "dfrbase['hrs detencion']=None\n",
    "dfrbase['hrs de hoy']=None\n",
    "dfrbase['DIFERN']=None\n",
    "dfrbase['MES']=None\n",
    "dfrbase['SEMANA']=None\n",
    "dfrbase['AÑO']=None"
   ]
  },
  {
   "cell_type": "code",
   "execution_count": 171,
   "metadata": {},
   "outputs": [],
   "source": [
    "dfrbase['caex']=dfrbase['Unidad']"
   ]
  },
  {
   "cell_type": "code",
   "execution_count": null,
   "metadata": {},
   "outputs": [],
   "source": [
    "indexavan=avanhrs[['Unidad']]\n",
    "for index, k in enumerate(dfrbase['caex']):\n",
    "    unidadb=k\n",
    "    fechab=dfrbase['Fecha Inicio'][index]\n",
    "    ibusqueda=indexavan[indexavan['Unidad']==unidadb].index\n",
    "    try:\n",
    "     valorf1=avanhrs.at[ibusqueda[0],fechab.to_pydatetime()]\n",
    "     dfrbase['hrs detencion'][index]=valorf1\n",
    "    except Exception as e:\n",
    "       print('no hay registros')\n"
   ]
  },
  {
   "cell_type": "code",
   "execution_count": 173,
   "metadata": {},
   "outputs": [],
   "source": [
    "dataliteavanhrs=avanhrs[['Equipo','Horas']]\n",
    "dfrbase['hrs de hoy']=pd.merge(dfrbase,dataliteavanhrs,left_on='caex',right_on='Equipo',how='left')['Horas']"
   ]
  },
  {
   "cell_type": "code",
   "execution_count": 174,
   "metadata": {},
   "outputs": [],
   "source": [
    "def difernfunc(hrsdec, hrshoy):\n",
    "  \n",
    "    if hrshoy is not None and hrsdec is not None and isinstance(hrshoy, (int, float)) and isinstance(hrsdec, (int, float)):\n",
    "        if hrshoy > hrsdec:\n",
    "            return hrshoy - hrsdec\n",
    "        else:\n",
    "            return 0\n",
    "    else:\n",
    "      \n",
    "        return None\n"
   ]
  },
  {
   "cell_type": "code",
   "execution_count": 175,
   "metadata": {},
   "outputs": [],
   "source": [
    "dfrbase['DIFERN']=dfrbase.apply(lambda row: difernfunc(row['hrs detencion'], row['hrs de hoy']), axis=1)\n"
   ]
  },
  {
   "cell_type": "code",
   "execution_count": 176,
   "metadata": {},
   "outputs": [],
   "source": [
    "dfrbase['MES']=dfrbase['Fecha Inicio'].apply(lambda x:x.month)\n",
    "dfrbase['SEMANA']=dfrbase['Fecha Inicio'].apply(lambda x:x.isocalendar().week)\n",
    "dfrbase['AÑO']=dfrbase['Fecha Inicio'].apply(lambda x:x.year)"
   ]
  },
  {
   "cell_type": "markdown",
   "metadata": {},
   "source": [
    "Creacion tablas principales"
   ]
  },
  {
   "cell_type": "markdown",
   "metadata": {},
   "source": [
    "Hrs MP"
   ]
  },
  {
   "cell_type": "code",
   "execution_count": 177,
   "metadata": {},
   "outputs": [],
   "source": [
    "mp=dfrbase[dfrbase['Tipo']=='MP']\n",
    "mp=mp[mp['Categoría']=='Inicial']\n",
    "mp=mp[['Unidad','Fecha Inicio','Sintoma','DIFERN']]\n",
    "mp=mp.sort_values(by=['Unidad','Fecha Inicio'], ascending=[True, True])\n",
    "mp.reset_index(inplace=True)\n",
    "mp=mp[['Unidad','Fecha Inicio','Sintoma','DIFERN']]"
   ]
  },
  {
   "cell_type": "code",
   "execution_count": null,
   "metadata": {},
   "outputs": [],
   "source": [
    "mp['HRS MP']=None\n",
    "counter=0\n",
    "for o in range(len(mp['Unidad'])):\n",
    "    if counter==0:\n",
    "        mp['HRS MP'][o]=0\n",
    "        counter+=1\n",
    "    else:\n",
    "        if mp['Unidad'][o]==mp['Unidad'][o-1]:\n",
    "            value1=mp['DIFERN'][o]\n",
    "            value2=mp['DIFERN'][o-1]\n",
    "            if isinstance(value1, (int, float)) and isinstance(value2, (int, float)):\n",
    "             fvalue=value2-value1\n",
    "             if pd.isnull(fvalue):\n",
    "                fvalue=0\n",
    "             mp['HRS MP'][o]=fvalue\n",
    "            else:\n",
    "              mp['HRS MP'][o]=0 \n",
    "        else:\n",
    "           mp['HRS MP'][o]=0"
   ]
  },
  {
   "cell_type": "code",
   "execution_count": 179,
   "metadata": {},
   "outputs": [],
   "source": [
    "hrsmp=mp"
   ]
  },
  {
   "cell_type": "markdown",
   "metadata": {},
   "source": [
    "Limpieza de Datos\n"
   ]
  },
  {
   "cell_type": "code",
   "execution_count": 180,
   "metadata": {},
   "outputs": [],
   "source": [
    "# for indec, a in enumerate(hrsmp['Unidad']):\n",
    "#  if isinstance(a,str):\n",
    "#       temp=a\n",
    "    \n",
    "#  hrsmp['Unidad'][indec]=temp\n"
   ]
  },
  {
   "cell_type": "code",
   "execution_count": 181,
   "metadata": {},
   "outputs": [],
   "source": [
    "# for indec, a in enumerate(hrsacei['Unidad']):\n",
    "#  if not isinstance(a,float):\n",
    "#       temp=a\n",
    "#  hrsacei['Unidad'][indec]=temp"
   ]
  },
  {
   "cell_type": "markdown",
   "metadata": {},
   "source": [
    "Transformacion y Creacion de tablas"
   ]
  },
  {
   "cell_type": "markdown",
   "metadata": {},
   "source": [
    "hrs ultima mp"
   ]
  },
  {
   "cell_type": "code",
   "execution_count": 182,
   "metadata": {},
   "outputs": [],
   "source": [
    "hrsultmp=({\n",
    "    'unidad':[None],\n",
    "    'hrsult1':[None],\n",
    "    'hrsult2':[None],\n",
    "    'tipo':[None]\n",
    "})\n",
    "hrsultmp=pd.DataFrame(hrsultmp)\n",
    "hrsultmp=hrsultmp.reindex(range(len(hrsmp['Unidad'].unique())))\n",
    "hrsultmp['unidad']=hrsmp['Unidad'].unique()"
   ]
  },
  {
   "cell_type": "code",
   "execution_count": null,
   "metadata": {},
   "outputs": [],
   "source": [
    "for index, b in enumerate(hrsultmp['unidad']):\n",
    "    newfilter=b\n",
    "    datafilt=hrsmp[hrsmp['Unidad']==newfilter]\n",
    "    datelist=datafilt['Fecha Inicio'].to_list()\n",
    "\n",
    "    hrsultmp['hrsult2'][index]=max(datelist)"
   ]
  },
  {
   "cell_type": "code",
   "execution_count": null,
   "metadata": {},
   "outputs": [],
   "source": [
    "for index, b in enumerate(hrsultmp['unidad']):\n",
    "    filtro=b\n",
    "    datafilt=hrsmp[hrsmp['Unidad']==filtro]\n",
    "    datelist=datafilt['Fecha Inicio'].to_list()\n",
    "    valuef=datafilt[datafilt['Fecha Inicio']==max(datelist)]['Sintoma'].values[0]\n",
    "    hrsultmp['tipo'][index]=valuef"
   ]
  },
  {
   "cell_type": "code",
   "execution_count": null,
   "metadata": {},
   "outputs": [],
   "source": [
    "for index, b in enumerate(hrsultmp['unidad']):\n",
    "    filtro=b\n",
    "    datafilt=hrsmp[hrsmp['Unidad']==filtro]\n",
    "    datelist=datafilt['Fecha Inicio'].to_list()\n",
    "    valuef=datafilt[datafilt['Fecha Inicio']==max(datelist)]['DIFERN'].values[0]\n",
    "    if not isinstance(valuef,str):\n",
    "       if valuef is None or pd.isna(valuef):\n",
    "         valuef=0\n",
    "       else:\n",
    "         valuef=round(valuef)  \n",
    "    hrsultmp['hrsult1'][index]=valuef\n"
   ]
  },
  {
   "cell_type": "markdown",
   "metadata": {},
   "source": [
    "Hrs De Aceite"
   ]
  },
  {
   "cell_type": "code",
   "execution_count": 187,
   "metadata": {},
   "outputs": [],
   "source": [
    "hrsacei=dfrbase[dfrbase['Elemento']=='Aceite Motor']\n",
    "hrsacei=hrsacei[hrsacei['Solución']=='Cambio']\n",
    "hrsacei=hrsacei[['Unidad','Fecha Inicio','Tipo','DIFERN']]\n",
    "hrsacei=hrsacei.sort_values(by=['Unidad','Fecha Inicio'], ascending=[True, True])\n",
    "hrsacei.reset_index(inplace=True)\n",
    "hrsacei=hrsacei[['Unidad','Fecha Inicio','Tipo','DIFERN']]"
   ]
  },
  {
   "cell_type": "code",
   "execution_count": null,
   "metadata": {},
   "outputs": [],
   "source": [
    "hrsacei['HRS ACEI']=None\n",
    "counter=0\n",
    "for o in range(len(hrsacei['Unidad'])):\n",
    "    if counter==0:\n",
    "        hrsacei['HRS ACEI'][o]=0\n",
    "        counter+=1\n",
    "    else:\n",
    "        if hrsacei['Unidad'][o]==hrsacei['Unidad'][o-1]:\n",
    "            value1=hrsacei['DIFERN'][o]\n",
    "            value2=hrsacei['DIFERN'][o-1]\n",
    "            if isinstance(value1, (int, float)) and isinstance(value2, (int, float)):\n",
    "              fvalue=value2-value1\n",
    "              if pd.isnull(value1):\n",
    "                 fvalue=0\n",
    "              hrsacei['HRS ACEI'][o]=fvalue\n",
    "            else:\n",
    "               hrsacei['HRS ACEI'][o]=0\n",
    "        else:\n",
    "           hrsacei['HRS ACEI'][o]=0"
   ]
  },
  {
   "cell_type": "markdown",
   "metadata": {},
   "source": [
    "sub tabla hrs de aceite"
   ]
  },
  {
   "cell_type": "code",
   "execution_count": 189,
   "metadata": {},
   "outputs": [],
   "source": [
    "subhracei=({\n",
    "    'CAEX':[None],\n",
    "    'hrsaceite':[None],\n",
    "    'fecha':[None],\n",
    "    'tipo':[None],\n",
    "})\n",
    "subhracei=pd.DataFrame(subhracei)\n",
    "subhracei=subhracei.reindex(range(hrsacei['Unidad'].nunique()))\n",
    "subhracei['CAEX']=hrsacei['Unidad'].unique()"
   ]
  },
  {
   "cell_type": "code",
   "execution_count": null,
   "metadata": {},
   "outputs": [],
   "source": [
    "for indice,c in enumerate(subhracei['CAEX']):\n",
    "    filtro=c\n",
    "    datafilt=hrsacei[hrsacei['Unidad']==filtro]\n",
    "    datelist=datafilt['Fecha Inicio'].to_list()\n",
    "    valuef=datafilt[datafilt['Fecha Inicio']==max(datelist)]['DIFERN'].values[0]\n",
    "    if not isinstance(valuef, str) and pd.notnull(valuef):\n",
    "        valuef=round(valuef)\n",
    "    subhracei['hrsaceite'][indice]=valuef\n",
    "    "
   ]
  },
  {
   "cell_type": "code",
   "execution_count": null,
   "metadata": {},
   "outputs": [],
   "source": [
    "for indice,c in enumerate(subhracei['CAEX']):\n",
    "    filtro=c\n",
    "    datafilt=hrsacei[hrsacei['Unidad']==filtro]\n",
    "    datelist=datafilt['Fecha Inicio'].to_list()\n",
    "\n",
    "\n",
    "    subhracei['fecha'][indice]=max(datelist)"
   ]
  },
  {
   "cell_type": "code",
   "execution_count": null,
   "metadata": {},
   "outputs": [],
   "source": [
    "for indice,c in enumerate(subhracei['CAEX']):\n",
    "    filtro=c\n",
    "    datafilt=hrsacei[hrsacei['Unidad']==filtro]\n",
    "    datelist=datafilt['Fecha Inicio'].to_list()\n",
    "    valuef=datafilt[datafilt['Fecha Inicio']==max(datelist)]['Tipo'].values[0]\n",
    "    subhracei['tipo'][indice]=valuef"
   ]
  },
  {
   "cell_type": "code",
   "execution_count": 193,
   "metadata": {},
   "outputs": [],
   "source": [
    "lista_camiones=[]\n",
    "for a in camiones_500_rango:\n",
    "    lista_camiones.append(int(a.replace('CA','')))"
   ]
  },
  {
   "cell_type": "markdown",
   "metadata": {},
   "source": [
    "MP y ACEITE (Tabla Principal)"
   ]
  },
  {
   "cell_type": "code",
   "execution_count": null,
   "metadata": {},
   "outputs": [],
   "source": [
    "mpyaceite['Fecha Ultima Mp']=None\n",
    "mpyaceite['HRS MP']=None\n",
    "def desviacion2t(x):\n",
    "    t=x.replace('%','')\n",
    "    t=int(t)\n",
    "    if t>0:\n",
    "        return x\n",
    "    else:\n",
    "        return '%0'\n",
    "for indice,d in enumerate(mpyaceite['CAEX2']):\n",
    "    filtro=d\n",
    "    datafilt=hrsultmp[hrsultmp['unidad']==filtro]\n",
    "    mpyaceite['Fecha Ultima Mp'][indice]=datafilt['hrsult2'].values\n",
    "    mpyaceite['HRS MP'][indice]=datafilt['hrsult1'].values\n",
    "mpyaceite['CAEX3']=mpyaceite['CAEX2']\n",
    "mpyaceite['HRS ACEITE']=None\n",
    "mpyaceite['TIPO']=None\n",
    "mpyaceite['FECHA ULTIMO CAMBIO']=None\n",
    "for index, e in enumerate(mpyaceite['CAEX3']):\n",
    "    filtro1=e\n",
    "    datafilt1=subhracei[subhracei['CAEX']==filtro1]\n",
    "    mpyaceite['HRS ACEITE'][index]=datafilt1['hrsaceite'].values\n",
    "    mpyaceite['TIPO'][index]=datafilt1['tipo'].values\n",
    "    mpyaceite['FECHA ULTIMO CAMBIO'][index]=datafilt1['fecha'].values\n",
    "mpyaceite['PROXIMA MP']=None\n",
    "mpyaceite['DESVIACION ACEITE']=None\n",
    "mpyaceite['PROXIMA MP'] = mpyaceite['HRS ACEITE'].apply(lambda x: str(round(1000 - int(x))) if pd.notnull(x) and not pd.isna(x) else '0')\n",
    "for index,b in enumerate(mpyaceite['CAEX2']):\n",
    "    if b in lista_camiones:\n",
    "       if pd.notnull(mpyaceite['HRS ACEITE'][index]) and not pd.isna(mpyaceite['HRS ACEITE'][index]): \n",
    "        proximamp=str(round(500-mpyaceite['HRS ACEITE'][index]))\n",
    "       else:\n",
    "          proximamp=0\n",
    "       mpyaceite['PROXIMA MP'][index]=proximamp\n",
    "mpyaceite['DESVIACION ACEITE']=mpyaceite['HRS ACEITE'].apply(lambda x:'%'+str(round((((int(x)*1)/1000)-1)*100))if pd.notnull(x) and not pd.isna(x) else '0')\n",
    "mpyaceite['DESVIACION ACEITE2']=mpyaceite['DESVIACION ACEITE'].apply(desviacion2t)\n"
   ]
  },
  {
   "cell_type": "code",
   "execution_count": 195,
   "metadata": {},
   "outputs": [],
   "source": [
    "mpyaceite.to_excel('sample3.xlsx',index=False)"
   ]
  }
 ],
 "metadata": {
  "kernelspec": {
   "display_name": "dct-env",
   "language": "python",
   "name": "python3"
  },
  "language_info": {
   "codemirror_mode": {
    "name": "ipython",
    "version": 3
   },
   "file_extension": ".py",
   "mimetype": "text/x-python",
   "name": "python",
   "nbconvert_exporter": "python",
   "pygments_lexer": "ipython3",
   "version": "3.11.4"
  }
 },
 "nbformat": 4,
 "nbformat_minor": 2
}
